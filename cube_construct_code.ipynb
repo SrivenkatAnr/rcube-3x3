{
 "cells": [
  {
   "cell_type": "code",
   "execution_count": 1,
   "metadata": {},
   "outputs": [
    {
     "data": {
      "text/plain": [
       "<Figure size 1000x2000 with 6 Axes>"
      ]
     },
     "metadata": {},
     "output_type": "display_data"
    },
    {
     "data": {
      "text/plain": [
       "<Figure size 1000x2000 with 6 Axes>"
      ]
     },
     "metadata": {},
     "output_type": "display_data"
    }
   ],
   "source": [
    "try:\n",
    "    import cv2\n",
    "except:\n",
    "    import cv2\n",
    "import numpy as np\n",
    "import os\n",
    "from cube_extract_code import cube_extract\n",
    "import matplotlib.pyplot as plt"
   ]
  },
  {
   "cell_type": "code",
   "execution_count": 2,
   "metadata": {},
   "outputs": [],
   "source": [
    "#6:black 0:white 1:orange 2:green 3:red 4:blue 5:yellow\n",
    "BLACK = (0,0,0)\n",
    "WHITE = (255,255,255)\n",
    "ORANGE = (0,128,255)\n",
    "GREEN = (0,255,0)\n",
    "RED = (0,0,255)\n",
    "BLUE = (255,0,0)\n",
    "YELLOW = (0,255,255)\n",
    "    \n",
    "def pltshow(image):\n",
    "    plt.imshow(btor(image))  \n",
    "    plt.show()\n",
    "    \n",
    "def btor(img):\n",
    "    return(cv2.cvtColor(img,cv2.COLOR_BGR2RGB))\n",
    "    \n",
    "cwd = os.getcwd()"
   ]
  },
  {
   "cell_type": "code",
   "execution_count": 3,
   "metadata": {},
   "outputs": [],
   "source": [
    "face0 = cv2.imread(cwd+\"/images/test-3/image1.jpeg\",1)\n",
    "face1 = cv2.imread(cwd+\"/images/test-3/image2.jpeg\",1)\n",
    "face2 = cv2.imread(cwd+\"/images/test-3/image3.jpeg\",1)\n",
    "face3 = cv2.imread(cwd+\"/images/test-3/image4.jpeg\",1)\n",
    "face4 = cv2.imread(cwd+\"/images/test-3/image5.jpeg\",1)\n",
    "face5 = cv2.imread(cwd+\"/images/test-3/image6.jpeg\",1)\n",
    "cube_ext = cube_extract([face0,face1,face2,face3,face4,face5])"
   ]
  },
  {
   "cell_type": "code",
   "execution_count": 4,
   "metadata": {},
   "outputs": [],
   "source": [
    "def cubeshow(grid):\n",
    "    face = [None,None,None,None,None,None]\n",
    "    for k in range(6):\n",
    "        mat = grid[k]\n",
    "        face[k] = np.zeros((3,3,3),np.uint8)\n",
    "        for i in range(3):\n",
    "             for j in range(3):\n",
    "                if mat[i,j] == 0:\n",
    "                    face[k][i,j] = WHITE\n",
    "                elif mat[i,j] == 1:\n",
    "                    face[k][i,j] = ORANGE\n",
    "                elif mat[i,j] == 2:\n",
    "                    face[k][i,j] = GREEN\n",
    "                elif mat[i,j] == 3:\n",
    "                    face[k][i,j] = RED\n",
    "                elif mat[i,j] == 4:\n",
    "                    face[k][i,j] = BLUE\n",
    "                elif mat[i,j] == 5:\n",
    "                    face[k][i,j] = YELLOW\n",
    "                else:\n",
    "                    pass \n",
    "    \n",
    "    plt.figure(figsize=(7,7))\n",
    "    plt.subplot(3,4,2),plt.imshow(btor(face[0])),plt.title(\"0\")\n",
    "    plt.subplot(3,4,5),plt.imshow(btor(face[1])),plt.title(\"1\")\n",
    "    plt.subplot(3,4,6),plt.imshow(btor(face[2])),plt.title(\"2\")\n",
    "    plt.subplot(3,4,7),plt.imshow(btor(face[3])),plt.title(\"3\")\n",
    "    plt.subplot(3,4,8),plt.imshow(btor(face[4])),plt.title(\"4\")\n",
    "    plt.subplot(3,4,10),plt.imshow(btor(face[5])),plt.title(\"5\")\n",
    "    plt.subplots_adjust(wspace=0.2, hspace=0.1)\n",
    "    plt.show()"
   ]
  },
  {
   "cell_type": "code",
   "execution_count": 5,
   "metadata": {},
   "outputs": [],
   "source": [
    "class cube2D():\n",
    "    def __init__(self,grid):\n",
    "        self.grid = grid\n",
    "        self.face = [None,None,None,None,None,None]\n",
    "        self.align_faces()\n",
    "        \n",
    "    def align_faces(self):\n",
    "        temp = [None,None,None,None,None,None]\n",
    "        for i in range(len(self.grid)):\n",
    "            j = np.uint8(self.grid[i][1][1])\n",
    "            temp[j] = self.grid[i]\n",
    "        self.grid = temp  \n",
    "        "
   ]
  },
  {
   "cell_type": "code",
   "execution_count": 6,
   "metadata": {},
   "outputs": [],
   "source": [
    "class cube3D():\n",
    "    def __init__(self):\n",
    "        self.corner = []\n",
    "        self.edge = []\n",
    "        self.center = []"
   ]
  },
  {
   "cell_type": "code",
   "execution_count": 7,
   "metadata": {},
   "outputs": [],
   "source": [
    "cube_con = cube2D(cube_ext.grid)"
   ]
  },
  {
   "cell_type": "code",
   "execution_count": 8,
   "metadata": {},
   "outputs": [
    {
     "data": {
      "image/png": "[encoded data removed]",
      "text/plain": [
       "<Figure size 504x504 with 6 Axes>"
      ]
     },
     "metadata": {
      "needs_background": "light"
     },
     "output_type": "display_data"
    }
   ],
   "source": [
    "cubeshow(cube_con.grid)"
   ]
  },
  {
   "cell_type": "code",
   "execution_count": null,
   "metadata": {},
   "outputs": [],
   "source": [
    "        "
   ]
  },
  {
   "cell_type": "code",
   "execution_count": null,
   "metadata": {},
   "outputs": [],
   "source": []
  },
  {
   "cell_type": "code",
   "execution_count": null,
   "metadata": {},
   "outputs": [],
   "source": []
  },
  {
   "cell_type": "code",
   "execution_count": null,
   "metadata": {},
   "outputs": [],
   "source": []
  },
  {
   "cell_type": "code",
   "execution_count": null,
   "metadata": {},
   "outputs": [],
   "source": []
  },
  {
   "cell_type": "code",
   "execution_count": null,
   "metadata": {},
   "outputs": [],
   "source": []
  },
  {
   "cell_type": "code",
   "execution_count": null,
   "metadata": {},
   "outputs": [],
   "source": []
  },
  {
   "cell_type": "code",
   "execution_count": null,
   "metadata": {},
   "outputs": [],
   "source": []
  },
  {
   "cell_type": "code",
   "execution_count": null,
   "metadata": {},
   "outputs": [],
   "source": []
  }
 ],
 "metadata": {
  "kernelspec": {
   "display_name": "Python 3",
   "language": "python",
   "name": "python3"
  },
  "language_info": {
   "codemirror_mode": {
    "name": "ipython",
    "version": 3
   },
   "file_extension": ".py",
   "mimetype": "text/x-python",
   "name": "python",
   "nbconvert_exporter": "python",
   "pygments_lexer": "ipython3",
   "version": "3.7.7"
  },
  "varInspector": {
   "cols": {
    "lenName": 16,
    "lenType": 16,
    "lenVar": 40
   },
   "kernels_config": {
    "python": {
     "delete_cmd_postfix": "",
     "delete_cmd_prefix": "del ",
     "library": "var_list.py",
     "varRefreshCmd": "print(var_dic_list())"
    },
    "r": {
     "delete_cmd_postfix": ") ",
     "delete_cmd_prefix": "rm(",
     "library": "var_list.r",
     "varRefreshCmd": "cat(var_dic_list()) "
    }
   },
   "types_to_exclude": [
    "module",
    "function",
    "builtin_function_or_method",
    "instance",
    "_Feature"
   ],
   "window_display": false
  }
 },
 "nbformat": 4,
 "nbformat_minor": 2
}
