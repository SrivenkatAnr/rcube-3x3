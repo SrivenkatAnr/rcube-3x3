{
 "cells": [
  {
   "cell_type": "code",
   "execution_count": 1,
   "metadata": {},
   "outputs": [],
   "source": [
    "try:\n",
    "    import cv2\n",
    "except:\n",
    "    import cv2\n",
    "import numpy as np\n",
    "import matplotlib.pyplot as plt\n",
    "import os    "
   ]
  },
  {
   "cell_type": "code",
   "execution_count": 2,
   "metadata": {},
   "outputs": [],
   "source": [
    "#0:black 1:white 2:blue 3:red 4:orange 5:green 6:yellow\n",
    "BLACK = (0,0,0)\n",
    "WHITE = (255,255,255)\n",
    "BLUE = (255,0,0)\n",
    "RED = (0,0,255)\n",
    "GREEN = (0,255,0)\n",
    "YELLOW = (0,255,255)\n",
    "ORANGE = (0,128,255)"
   ]
  },
  {
   "cell_type": "code",
   "execution_count": 3,
   "metadata": {},
   "outputs": [],
   "source": [
    "def imgshow(image):\n",
    "    cv2.imshow(\"image\",image)\n",
    "    cv2.waitKey(0)\n",
    "    cv2.destroyAllWindows()\n",
    "    \n",
    "def pltshow(image):\n",
    "    image = cv2.cvtColor(image,cv2.COLOR_BGR2RGB)\n",
    "    plt.imshow(image)  \n",
    "    plt.show()\n",
    "\n",
    "cwd = os.getcwd()"
   ]
  },
  {
   "cell_type": "code",
   "execution_count": 21,
   "metadata": {},
   "outputs": [],
   "source": [
    "class cubepre():\n",
    "    def __init__(self,imagelist):\n",
    "        self.grid = [None,None,None,None,None,None]\n",
    "        self.sq = [None,None,None,None,None,None]\n",
    "        self.face = [None,None,None,None,None,None]\n",
    "        self.stickers = [None,None,None,None,None,None]\n",
    "        self.img = [None,None,None,None,None,None]\n",
    "        width = 800\n",
    "        scale = imagelist[0].shape[1]/width\n",
    "        height = int(imagelist[0].shape[0]/scale)\n",
    "        img_area = height*width\n",
    "        for k in range(len(imagelist)):\n",
    "            self.img[k] = cv2.resize(imagelist[k].copy(),(width,height))\n",
    "            self.face_extract(k)\n",
    "                       \n",
    "    def face_extract(self,k):\n",
    "        temp = self.img[k].copy()\n",
    "        img_area = temp.shape[0]*temp.shape[1]\n",
    "        temp = cv2.cvtColor(temp,cv2.COLOR_BGR2HSV)\n",
    "        temp = cv2.cvtColor(temp,cv2.COLOR_BGR2HSV)\n",
    "        temp = cv2.GaussianBlur(temp,(5,5),0)        \n",
    "        h,s,v = cv2.split(temp)\n",
    "        temp = cv2.Canny(v,25,50)\n",
    "        temp = cv2.GaussianBlur(temp,(5,5),0)\n",
    "        temp = cv2.dilate(temp,np.ones([5,5]))\n",
    "        contours,hierarchy = cv2.findContours(temp,cv2.RETR_LIST,cv2.CHAIN_APPROX_SIMPLE)\n",
    "        rect=[]\n",
    "        areas = []\n",
    "        for cnt in contours:\n",
    "            epsilon = 0.1*cv2.arcLength(cnt,True)\n",
    "            approx = cv2.approxPolyDP(cnt,epsilon,True)\n",
    "            area = cv2.contourArea(cnt)\n",
    "            if len(approx)==4 and area>img_area/200 and area<img_area/40:\n",
    "                boxwidths = cv2.minAreaRect(cnt)\n",
    "                rect.append(np.int0(cv2.boxPoints(boxwidths)))\n",
    "                areas.append(area)\n",
    "        rect = self.contoursort(rect)\n",
    "        self.stickers[k] = cv2.drawContours(self.img[k].copy(),rect,-1,YELLOW)\n",
    "        if len(rect) != 9:\n",
    "            print(\"invalid\",k,len(rect))            \n",
    "        self.get_faceval(rect,k)\n",
    "        \n",
    "    def get_faceval(self,rect,k):\n",
    "        temp = self.img[k].copy()\n",
    "        sq = np.asarray(rect).reshape(3,3,4,2)\n",
    "        pixel_b = np.zeros([3,3])\n",
    "        pixel_g = np.zeros([3,3])\n",
    "        pixel_r = np.zeros([3,3])     \n",
    "        \n",
    "        for i in range(3):\n",
    "            for j in range(3):\n",
    "                    x,y,w,h = cv2.boundingRect(sq[i][j])\n",
    "                    sec = temp[y:y+h,x:x+w]\n",
    "                    sec = cv2.resize(sec,(25,25))\n",
    "                    sec = cv2.GaussianBlur(sec,(21,21),0)\n",
    "                    pixel_b[i,j],pixel_g[i,j],pixel_r[i,j] = sec[12,12]                                                             \n",
    "                                                     \n",
    "        mat = self.colormap([pixel_b,pixel_g,pixel_r])\n",
    "        self.update(mat,k)        \n",
    "\n",
    "    def contoursort(self,rect):\n",
    "        rect = sorted(rect,key=lambda b:b[1][1],reverse=False)\n",
    "        rect[0:3] = sorted(rect[0:3],key=lambda b:b[1][0],reverse=False)\n",
    "        rect[3:6] = sorted(rect[3:6],key=lambda b:b[1][0],reverse=False)\n",
    "        rect[6:9] = sorted(rect[6:9],key=lambda b:b[1][0],reverse=False)\n",
    "        return rect  \n",
    "        \n",
    "    def colormap(self,colors):\n",
    "        mat = np.zeros([3,3])\n",
    "        B,G,R = colors\n",
    "        col = [BLACK,WHITE,BLUE,RED,ORANGE,GREEN,YELLOW]\n",
    "        vals = [0,1,2,3,4,5,6]\n",
    "        dist = np.zeros([len(col),1])\n",
    "        for i in range(3):\n",
    "            for j in range(3):                                \n",
    "                for m in range(len(col)):\n",
    "                    c = col[m]\n",
    "                    dist[m] = abs(B[i][j]-c[0]) + abs(G[i][j]-c[1]) + abs(R[i][j]-c[2])   \n",
    "                ind = np.argmin(dist)\n",
    "                mat[i][j] = vals[ind]\n",
    "        return mat\n",
    "    \n",
    "    def update(self,mat,k):\n",
    "        self.grid[k] = mat\n",
    "        self.face[k] = np.zeros((3,3,3),np.uint8)\n",
    "        for i in range(3):\n",
    "            for j in range(3):\n",
    "                if mat[i,j] == 1:\n",
    "                    self.face[k][i,j] = WHITE\n",
    "                elif mat[i,j] == 2:\n",
    "                    self.face[k][i,j] = BLUE\n",
    "                elif mat[i,j] == 3:\n",
    "                    self.face[k][i,j] = RED\n",
    "                elif mat[i,j] == 4:\n",
    "                    self.face[k][i,j] = ORANGE\n",
    "                elif mat[i,j] == 5:\n",
    "                     self.face[k][i,j] = GREEN\n",
    "                elif mat[i,j] == 6:\n",
    "                     self.face[k][i,j] = YELLOW\n",
    "                else:\n",
    "                    pass              "
   ]
  },
  {
   "cell_type": "code",
   "execution_count": 34,
   "metadata": {},
   "outputs": [],
   "source": [
    "face0 = cv2.imread(cwd+\"/images/image1.jpeg\",1)\n",
    "face1 = cv2.imread(cwd+\"/images/image2.jpeg\",1)\n",
    "face2 = cv2.imread(cwd+\"/images/image3.jpeg\",1)\n",
    "face3 = cv2.imread(cwd+\"/images/image4.jpeg\",1)\n",
    "face4 = cv2.imread(cwd+\"/images/image5.jpeg\",1)\n",
    "face5 = cv2.imread(cwd+\"/images/image6.jpeg\",1)\n",
    "cube = cubepre([face0,face1,face2,face3,face4,face5])"
   ]
  },
  {
   "cell_type": "code",
   "execution_count": 35,
   "metadata": {},
   "outputs": [],
   "source": [
    "imgshow(cube.stickers[5])"
   ]
  },
  {
   "cell_type": "code",
   "execution_count": null,
   "metadata": {},
   "outputs": [],
   "source": []
  },
  {
   "cell_type": "code",
   "execution_count": null,
   "metadata": {},
   "outputs": [],
   "source": []
  },
  {
   "cell_type": "code",
   "execution_count": 20,
   "metadata": {},
   "outputs": [],
   "source": []
  },
  {
   "cell_type": "code",
   "execution_count": 11,
   "metadata": {},
   "outputs": [
    {
     "data": {
      "text/plain": [
       "[10746.5,\n",
       " 11240.5,\n",
       " 10703.0,\n",
       " 10696.5,\n",
       " 11259.0,\n",
       " 10791.5,\n",
       " 9594.5,\n",
       " 10038.5,\n",
       " 9119.0,\n",
       " 29285.0]"
      ]
     },
     "execution_count": 11,
     "metadata": {},
     "output_type": "execute_result"
    }
   ],
   "source": []
  },
  {
   "cell_type": "code",
   "execution_count": null,
   "metadata": {},
   "outputs": [],
   "source": []
  },
  {
   "cell_type": "code",
   "execution_count": null,
   "metadata": {},
   "outputs": [],
   "source": []
  }
 ],
 "metadata": {
  "kernelspec": {
   "display_name": "Python 3",
   "language": "python",
   "name": "python3"
  },
  "language_info": {
   "codemirror_mode": {
    "name": "ipython",
    "version": 3
   },
   "file_extension": ".py",
   "mimetype": "text/x-python",
   "name": "python",
   "nbconvert_exporter": "python",
   "pygments_lexer": "ipython3",
   "version": "3.7.7"
  },
  "varInspector": {
   "cols": {
    "lenName": 16,
    "lenType": 16,
    "lenVar": 40
   },
   "kernels_config": {
    "python": {
     "delete_cmd_postfix": "",
     "delete_cmd_prefix": "del ",
     "library": "var_list.py",
     "varRefreshCmd": "print(var_dic_list())"
    },
    "r": {
     "delete_cmd_postfix": ") ",
     "delete_cmd_prefix": "rm(",
     "library": "var_list.r",
     "varRefreshCmd": "cat(var_dic_list()) "
    }
   },
   "types_to_exclude": [
    "module",
    "function",
    "builtin_function_or_method",
    "instance",
    "_Feature"
   ],
   "window_display": false
  }
 },
 "nbformat": 4,
 "nbformat_minor": 4
}
