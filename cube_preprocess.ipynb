{
 "cells": [
  {
   "cell_type": "code",
   "execution_count": 2,
   "metadata": {},
   "outputs": [],
   "source": [
    "try:\n",
    "    import cv2\n",
    "except:\n",
    "    import cv2\n",
    "import numpy as np\n",
    "import matplotlib.pyplot as plt\n",
    "import os    "
   ]
  },
  {
   "cell_type": "code",
   "execution_count": 3,
   "metadata": {},
   "outputs": [],
   "source": [
    "#0:black 1:white 2:blue 3:red 4:orange 5:green 6:yellow\n",
    "BLACK = (0,0,0)\n",
    "WHITE = (255,255,255)\n",
    "BLUE = (255,0,0)\n",
    "RED = (0,0,255)\n",
    "GREEN = (0,255,0)\n",
    "YELLOW = (0,255,255)\n",
    "ORANGE = (0,128,255)"
   ]
  },
  {
   "cell_type": "code",
   "execution_count": 4,
   "metadata": {},
   "outputs": [],
   "source": [
    "def imgshow(image):\n",
    "    cv2.imshow(\"image\",image)\n",
    "    cv2.waitKey(0)\n",
    "    cv2.destroyAllWindows()\n",
    "    \n",
    "def pltshow(image):\n",
    "    image = cv2.cvtColor(image,cv2.COLOR_BGR2RGB)\n",
    "    plt.imshow(image)  \n",
    "    plt.show()\n",
    "\n",
    "cwd = os.getcwd()"
   ]
  },
  {
   "cell_type": "code",
   "execution_count": 6,
   "metadata": {},
   "outputs": [],
   "source": [
    "class cubepre():\n",
    "    def __init__(self,imagelist):\n",
    "        self.grid = [None,None,None,None,None,None]\n",
    "        self.sq = [None,None,None,None,None,None]\n",
    "        self.face = [None,None,None,None,None,None]\n",
    "        self.stickers = [None,None,None,None,None,None]\n",
    "        self.img = [None,None,None,None,None,None]\n",
    "        width = 800\n",
    "        scale = imagelist[0].shape[1]/width\n",
    "        height = int(imagelist[0].shape[0]/scale)\n",
    "        img_area = height*width\n",
    "        for k in range(len(imagelist)):\n",
    "            self.img[k] = cv2.resize(imagelist[k].copy(),(width,height))\n",
    "            self.face_extract(k)\n",
    "                       \n",
    "    def face_extract(self,k):\n",
    "        temp = self.img[k].copy()\n",
    "        img_area = temp.shape[0]*temp.shape[1]\n",
    "        temp = cv2.cvtColor(temp,cv2.COLOR_BGR2HSV)\n",
    "        temp = cv2.cvtColor(temp,cv2.COLOR_BGR2HSV)\n",
    "        temp = cv2.GaussianBlur(temp,(5,5),0)        \n",
    "        h,s,v = cv2.split(temp)\n",
    "        temp = cv2.Canny(v,25,50)\n",
    "        temp = cv2.GaussianBlur(temp,(5,5),0)\n",
    "        temp = cv2.dilate(temp,np.ones([5,5]))\n",
    "        contours,hierarchy = cv2.findContours(temp,cv2.RETR_LIST,cv2.CHAIN_APPROX_SIMPLE)\n",
    "        rect=[]\n",
    "        areas = []\n",
    "        for cnt in contours:\n",
    "            epsilon = 0.1*cv2.arcLength(cnt,True)\n",
    "            approx = cv2.approxPolyDP(cnt,epsilon,True)\n",
    "            area = cv2.contourArea(cnt)\n",
    "            if len(approx)==4 and area>img_area/400 and area<img_area/20:\n",
    "                boxwidths = cv2.minAreaRect(cnt)\n",
    "                rect.append(np.int0(cv2.boxPoints(boxwidths)))\n",
    "                areas.append(area)\n",
    "        rect = self.contoursort(rect)\n",
    "        self.stickers[k] = cv2.drawContours(self.img[k].copy(),rect,-1,YELLOW)\n",
    "        if len(rect) != 9:\n",
    "            print(\"invalid\",k,len(rect))            \n",
    "        self.get_faceval(rect,k)\n",
    "        \n",
    "    def get_faceval(self,rect,k):\n",
    "        pixel_b = np.zeros([3,3])\n",
    "        pixel_g = np.zeros([3,3])\n",
    "        pixel_r = np.zeros([3,3])\n",
    "        \n",
    "        \n",
    "                                \n",
    "        mat = self.colormap([pixel_b,pixel_g,pixel_r])\n",
    "        self.update(mat,k)        \n",
    "\n",
    "    def contoursort(self,rect):\n",
    "        rect = sorted(rect,key=lambda b:b[1][1],reverse=False)\n",
    "        rect[0:3] = sorted(rect[0:3],key=lambda b:b[1][0],reverse=False)\n",
    "        rect[3:6] = sorted(rect[3:6],key=lambda b:b[1][0],reverse=False)\n",
    "        rect[6:9] = sorted(rect[6:9],key=lambda b:b[1][0],reverse=False)\n",
    "        return rect  \n",
    "        \n",
    "    \n",
    "    def colormap(self,colors):\n",
    "        mat = np.zeros([3,3])\n",
    "        B,G,R = colors\n",
    "        col = [BLACK,WHITE,BLUE,RED,ORANGE,GREEN,YELLOW]\n",
    "        vals = [0,1,2,3,4,5,6]\n",
    "        dist = np.zeros([len(col),1])\n",
    "        for i in range(3):\n",
    "            for j in range(3):                                \n",
    "                for m in range(len(col)):\n",
    "                    c = col[m]\n",
    "                    dist[m] = abs(B[i][j]-c[0]) + abs(G[i][j]-c[1]) + abs(R[i][j]-c[2])   \n",
    "                ind = np.argmin(dist)\n",
    "                mat[i][j] = vals[ind]\n",
    "        return mat\n",
    "    \n",
    "    def update(self,mat,k):\n",
    "        self.grid[k] = mat\n",
    "        self.face[k] = np.zeros((3,3,3),np.uint8)\n",
    "        for i in range(3):\n",
    "            for j in range(3):\n",
    "                if mat[i,j] == 1:\n",
    "                    self.face[k][i,j] = WHITE\n",
    "                elif mat[i,j] == 2:\n",
    "                    self.face[k][i,j] = BLUE\n",
    "                elif mat[i,j] == 3:\n",
    "                    self.face[k][i,j] = RED\n",
    "                elif mat[i,j] == 4:\n",
    "                    self.face[k][i,j] = ORANGE\n",
    "                elif mat[i,j] == 5:\n",
    "                     self.face[k][i,j] = GREEN\n",
    "                elif mat[i,j] == 6:\n",
    "                     self.face[k][i,j] = YELLOW\n",
    "                else:\n",
    "                    pass              "
   ]
  },
  {
   "cell_type": "code",
   "execution_count": 7,
   "metadata": {},
   "outputs": [],
   "source": [
    "face0 = cv2.imread(cwd+\"/images/image1.jpeg\",1)\n",
    "face1 = cv2.imread(cwd+\"/images/image2.jpeg\",1)\n",
    "face2 = cv2.imread(cwd+\"/images/image3.jpeg\",1)\n",
    "face3 = cv2.imread(cwd+\"/images/image4.jpeg\",1)\n",
    "face4 = cv2.imread(cwd+\"/images/image5.jpeg\",1)\n",
    "face5 = cv2.imread(cwd+\"/images/image6.jpeg\",1)\n",
    "cube = cubepre([face0,face1,face2,face3,face4,face5])"
   ]
  },
  {
   "cell_type": "code",
   "execution_count": 68,
   "metadata": {},
   "outputs": [],
   "source": [
    "imgshow(cube.stickers[5])"
   ]
  },
  {
   "cell_type": "code",
   "execution_count": null,
   "metadata": {},
   "outputs": [],
   "source": []
  },
  {
   "cell_type": "code",
   "execution_count": null,
   "metadata": {},
   "outputs": [],
   "source": []
  },
  {
   "cell_type": "code",
   "execution_count": 126,
   "metadata": {},
   "outputs": [],
   "source": [
    "img = cube.img[5].copy()\n",
    "img1 = cube.img[5].copy()\n",
    "\n",
    "img_area = img.shape[0]*img.shape[1]\n",
    "temp = img.copy()\n",
    "temp = cv2.cvtColor(temp,cv2.COLOR_BGR2HSV)\n",
    "temp = cv2.GaussianBlur(temp,(5,5),0)        \n",
    "h,s,v = cv2.split(temp)\n",
    "temp = cv2.Canny(v,25,50)\n",
    "temp = cv2.GaussianBlur(temp,(5,5),0)\n",
    "temp = cv2.dilate(temp,np.ones([5,5]))\n",
    "contours,hierarchy = cv2.findContours(temp,cv2.RETR_LIST,cv2.CHAIN_APPROX_SIMPLE)\n",
    "rectangles=[]\n",
    "areas=[]\n",
    "for i in range(len(contours)):\n",
    "    cnt = contours[i]\n",
    "    epsilon = 0.1*cv2.arcLength(cnt,True)\n",
    "    approx = cv2.approxPolyDP(cnt,epsilon,True)\n",
    "    area = cv2.contourArea(cnt)\n",
    "    if len(approx)==4 and area>900 and area<18000:\n",
    "        coord = cv2.minAreaRect(cnt)\n",
    "        areas.append(area)\n",
    "        rect = (np.int0(cv2.boxPoints(coord)))\n",
    "        rectangles.append(rect)\n",
    "        cv2.drawContours(img,[rect],0,YELLOW)\n",
    "        M = cv2.moments(rect)\n",
    "        Cx = int((M[\"m10\"] / M[\"m00\"]))\n",
    "        Cy = int((M[\"m01\"] / M[\"m00\"]))\n",
    "        cv2.putText(img,str(i),(Cx,Cy),cv2.FONT_HERSHEY_SIMPLEX,0.5,YELLOW,2)\n",
    "imgshow(img)\n",
    "\n",
    "rect = rectangles.copy()\n",
    "#\n",
    "#for i in range(len(rect)):    \n",
    "#    pts = rect[i].copy()\n",
    "#    xy = np.zeros((4, 2), dtype = \"float32\")\n",
    "#\n",
    "#    s = pts.sum(axis = 1)\n",
    "#    xy[0] = pts[np.argmin(s)]\n",
    "#    xy[2] = pts[np.argmax(s)]\n",
    "#    diff = np.diff(pts, axis = 1)\n",
    "#    xy[1] = pts[np.argmin(diff)]\n",
    "#    xy[3] = pts[np.argmax(diff)]\n",
    "    \n",
    "#    rect[i]=xy.copy()\n",
    "\n",
    "rect = sorted(rect,key=lambda b:b[1][1],reverse=False)\n",
    "rect[0:3] = sorted(rect[0:3],key=lambda b:b[1][0],reverse=False)\n",
    "rect[3:6] = sorted(rect[3:6],key=lambda b:b[1][0],reverse=False)\n",
    "rect[6:9] = sorted(rect[6:9],key=lambda b:b[1][0],reverse=False)\n",
    "\n",
    "for i in range(len(rect)):\n",
    "    M = cv2.moments(rect[i])\n",
    "    Cx = int((M[\"m10\"] / M[\"m00\"]))\n",
    "    Cy = int((M[\"m01\"] / M[\"m00\"]))\n",
    "    cv2.putText(img1,str(i),(Cx,Cy),cv2.FONT_HERSHEY_SIMPLEX,0.5,YELLOW,2)\n",
    "#cv2.drawContours(img1,rect,-1,YELLOW)\n",
    "imgshow(img1)"
   ]
  },
  {
   "cell_type": "code",
   "execution_count": null,
   "metadata": {},
   "outputs": [],
   "source": []
  },
  {
   "cell_type": "code",
   "execution_count": null,
   "metadata": {},
   "outputs": [],
   "source": []
  },
  {
   "cell_type": "code",
   "execution_count": 95,
   "metadata": {},
   "outputs": [
    {
     "name": "stdout",
     "output_type": "stream",
     "text": [
      "9\n"
     ]
    },
    {
     "data": {
      "text/plain": [
       "array([352, 307])"
      ]
     },
     "execution_count": 95,
     "metadata": {},
     "output_type": "execute_result"
    }
   ],
   "source": [
    "print(len(rectangles))\n",
    "abc = rectangles[0]\n",
    "abc[1]"
   ]
  },
  {
   "cell_type": "code",
   "execution_count": 90,
   "metadata": {},
   "outputs": [],
   "source": [
    "img2 = cube.img[1].copy()\n",
    "rect = rectangles.copy()\n",
    "for i in range(len(rect)):\n",
    "    M = cv2.moments(rect[i])\n",
    "    Cx = int((M[\"m10\"] / M[\"m00\"]))\n",
    "    Cy = int((M[\"m01\"] / M[\"m00\"]))\n",
    "    cv2.putText(img2,str(i),(Cx,Cy),cv2.FONT_HERSHEY_SIMPLEX,0.5,YELLOW,2)\n",
    "cv2.drawContours(img2,rect,-1,YELLOW)\n",
    "imgshow(img2)"
   ]
  },
  {
   "cell_type": "code",
   "execution_count": 89,
   "metadata": {},
   "outputs": [],
   "source": [
    "img1 = cube.img[0].copy()\n",
    "rect = rectangles.copy()\n",
    "rect = sorted(rect,key=lambda b:b[1][1],reverse=False)\n",
    "rect = sorted(rect,key=lambda b:b[1][0],reverse=False)\n",
    "for i in range(len(rect)):\n",
    "    M = cv2.moments(rect[i])\n",
    "    Cx = int((M[\"m10\"] / M[\"m00\"]))\n",
    "    Cy = int((M[\"m01\"] / M[\"m00\"]))\n",
    "    cv2.putText(img1,str(i),(Cx,Cy),cv2.FONT_HERSHEY_SIMPLEX,0.5,YELLOW,2)\n",
    "cv2.drawContours(img1,rect,-1,YELLOW)\n",
    "imgshow(img1)"
   ]
  },
  {
   "cell_type": "code",
   "execution_count": null,
   "metadata": {},
   "outputs": [],
   "source": []
  },
  {
   "cell_type": "code",
   "execution_count": null,
   "metadata": {},
   "outputs": [],
   "source": []
  },
  {
   "cell_type": "code",
   "execution_count": 18,
   "metadata": {},
   "outputs": [
    {
     "data": {
      "text/plain": [
       "360000"
      ]
     },
     "execution_count": 18,
     "metadata": {},
     "output_type": "execute_result"
    }
   ],
   "source": [
    "img_area"
   ]
  },
  {
   "cell_type": "code",
   "execution_count": null,
   "metadata": {},
   "outputs": [],
   "source": []
  }
 ],
 "metadata": {
  "kernelspec": {
   "display_name": "Python 3",
   "language": "python",
   "name": "python3"
  },
  "language_info": {
   "codemirror_mode": {
    "name": "ipython",
    "version": 3
   },
   "file_extension": ".py",
   "mimetype": "text/x-python",
   "name": "python",
   "nbconvert_exporter": "python",
   "pygments_lexer": "ipython3",
   "version": "3.7.7"
  },
  "varInspector": {
   "cols": {
    "lenName": 16,
    "lenType": 16,
    "lenVar": 40
   },
   "kernels_config": {
    "python": {
     "delete_cmd_postfix": "",
     "delete_cmd_prefix": "del ",
     "library": "var_list.py",
     "varRefreshCmd": "print(var_dic_list())"
    },
    "r": {
     "delete_cmd_postfix": ") ",
     "delete_cmd_prefix": "rm(",
     "library": "var_list.r",
     "varRefreshCmd": "cat(var_dic_list()) "
    }
   },
   "types_to_exclude": [
    "module",
    "function",
    "builtin_function_or_method",
    "instance",
    "_Feature"
   ],
   "window_display": false
  }
 },
 "nbformat": 4,
 "nbformat_minor": 4
}
