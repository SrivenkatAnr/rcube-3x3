{
 "cells": [
  {
   "cell_type": "code",
   "execution_count": 3,
   "metadata": {},
   "outputs": [],
   "source": [
    "import cv2\n",
    "import numpy as np\n",
    "import matplotlib.pyplot as plt\n",
    "import os"
   ]
  },
  {
   "cell_type": "code",
   "execution_count": 4,
   "metadata": {},
   "outputs": [],
   "source": [
    "#0:black 1:white 2:blue 3:red 4:orange 5:green 6:yellow\n",
    "BLACK = (0,0,0)\n",
    "WHITE = (255,255,255)\n",
    "BLUE = (255,0,0)\n",
    "RED = (0,0,255)\n",
    "GREEN = (0,255,0)\n",
    "YELLOW = (0,255,255)\n",
    "ORANGE = (0,128,255)"
   ]
  },
  {
   "cell_type": "code",
   "execution_count": 5,
   "metadata": {},
   "outputs": [],
   "source": [
    "def imgshow(image):\n",
    "    cv2.imshow(\"image\",image)\n",
    "    cv2.waitKey(0)\n",
    "    cv2.destroyAllWindows()\n",
    "    \n",
    "def pltshow(image):\n",
    "    image = cv2.cvtColor(image,cv2.COLOR_BGR2RGB)\n",
    "    plt.imshow(image)   \n",
    "\n",
    "cwd = os.getcwd()"
   ]
  },
  {
   "cell_type": "code",
   "execution_count": 6,
   "metadata": {},
   "outputs": [],
   "source": [
    "def cropsquare(pts,image):\n",
    "    temp = np.zeros((len(pts),2))\n",
    "    for i in range(len(pts)):\n",
    "        temp[i] = pts[i][0] \n",
    "    pts = temp\n",
    "        \n",
    "    rect = np.zeros((4, 2), dtype = \"float32\")\n",
    "\n",
    "    s = pts.sum(axis = 1)\n",
    "    rect[0] = pts[np.argmin(s)]\n",
    "    rect[2] = pts[np.argmax(s)]\n",
    "    diff = np.diff(pts, axis = 1)\n",
    "    rect[1] = pts[np.argmin(diff)]\n",
    "    rect[3] = pts[np.argmax(diff)]\n",
    "        \n",
    "    tl,tr,br,bl = rect\n",
    "\n",
    "    width1 = np.sqrt(((br[0]-bl[0])**2) + ((br[1]-bl[1])**2))\n",
    "    width2 = np.sqrt(((tr[0]-tl[0])**2) + ((tr[1]-tl[1])**2))\n",
    "    height1 = np.sqrt(((br[0]-tr[0])**2) + ((br[1]-tr[1])**2))\n",
    "    height2 = np.sqrt(((bl[0]-tl[0])**2) + ((bl[1]-tl[1])**2))\n",
    "\n",
    "    max_w = max(int(width1),int(width2))\n",
    "    max_h = max(int(height1),int(height2))\n",
    "\n",
    "    dst = np.array([[0, 0],[max_w - 1, 0],[max_w - 1, max_h - 1],[0, max_h - 1]], dtype = \"float32\")        \n",
    "    M = cv2.getPerspectiveTransform(rect, dst)\n",
    "        \n",
    "    cropped = cv2.warpPerspective(image, M, (max_w, max_h))\n",
    "    return cv2.fastNlMeansDenoising(cropped,None,10,7,21)"
   ]
  },
  {
   "cell_type": "code",
   "execution_count": 9,
   "metadata": {},
   "outputs": [],
   "source": [
    "class cubepre():\n",
    "    def __init__(self,imagelist):\n",
    "        self.grid = [None,None,None,None,None,None]\n",
    "        self.sq = [None,None,None,None,None,None]\n",
    "        self.face = [None,None,None,None,None,None]\n",
    "        self.edge = [None,None,None,None,None,None]\n",
    "        self.img = [None,None,None,None,None,None]\n",
    "        height = 400\n",
    "        scale = imagelist[0].shape[0]*(1/height)\n",
    "        width = int(imagelist[0].shape[1]/scale)\n",
    "        img_area = height*width\n",
    "        for k in range(len(imagelist)):\n",
    "            self.img[k] = imagelist[k].copy()\n",
    "            self.sq_extract(self.img[k],k)\n",
    "        self.get_faceval()\n",
    "                       \n",
    "    def sq_extract(self,image,i):\n",
    "        temp = image.copy()\n",
    "        temp = cv2.cvtColor(temp,cv2.COLOR_BGR2HSV)\n",
    "        temp = cv2.GaussianBlur(temp,(11,11),0)        \n",
    "        temp = cv2.Canny(temp,25,50)\n",
    "        temp = cv2.GaussianBlur(temp,(5,5),0)\n",
    "        temp = cv2.dilate(temp,np.ones([5,5]))\n",
    "        contours,hierarchy = cv2.findContours(temp,cv2.RETR_EXTERNAL,cv2.CHAIN_APPROX_SIMPLE)\n",
    "        areas = [cv2.contourArea(c) for c in contours]\n",
    "        maxind = np.argmax(areas)\n",
    "        cntmax = contours[maxind]\n",
    "        sq_hull = cv2.convexHull(cntmax,True)\n",
    "        epsilon = 0.1*cv2.arcLength(sq_hull,True)\n",
    "        approx = cv2.approxPolyDP(sq_hull,epsilon,True)\n",
    "        self.edge[i] = cv2.drawContours(image.copy(),[approx],0,YELLOW)\n",
    "        self.sq[i] = cropsquare(approx,self.img[i])\n",
    "\n",
    "    def get_faceval(self):\n",
    "        sqlist = self.sq.copy()\n",
    "        pixel_b = np.zeros([3,3])\n",
    "        pixel_g = np.zeros([3,3])\n",
    "        pixel_r = np.zeros([3,3])\n",
    "        size = 150\n",
    "        start = int(size/6)\n",
    "        step = int(size/3)\n",
    "        for k in range(len(sqlist)):\n",
    "            temp = cv2.resize(sqlist[k],(150,150))\n",
    "            temp_blur = cv2.blur(temp,(3,3))\n",
    "        \n",
    "            for i in range(3):\n",
    "                for j in range(3):\n",
    "                    pixel_b[i,j],pixel_g[i,j],pixel_r[i,j] = temp_blur[start+(i*step),start+(j*step)]\n",
    "                        \n",
    "            matrix = self.colormap([pixel_b,pixel_g,pixel_r])\n",
    "            self.update(matrix,k)\n",
    "        \n",
    "    def update(self,mat,k):\n",
    "        self.grid[k] = mat\n",
    "        self.face[k] = np.zeros((3,3,3),np.uint8)\n",
    "        for i in range(3):\n",
    "            for j in range(3):\n",
    "                if mat[i,j] == 1:\n",
    "                    self.face[k][i,j] = WHITE\n",
    "                elif mat[i,j] == 2:\n",
    "                    self.face[k][i,j] = BLUE\n",
    "                elif mat[i,j] == 3:\n",
    "                    self.face[k][i,j] = RED\n",
    "                elif mat[i,j] == 4:\n",
    "                    self.face[k][i,j] = ORANGE\n",
    "                elif mat[i,j] == 5:\n",
    "                    self.face[k][i,j] = GREEN\n",
    "                elif mat[i,j] == 6:\n",
    "                    self.face[k][i,j] = YELLOW\n",
    "                else:\n",
    "                    pass      \n",
    "            \n",
    "    def colormap(self,colors):\n",
    "        mat = np.zeros([3,3])\n",
    "        B,G,R = colors\n",
    "        col = [BLACK,WHITE,BLUE,RED,ORANGE,GREEN,YELLOW]\n",
    "        vals = [0,1,2,3,4,5,6]\n",
    "        dist = np.zeros([len(col),1])\n",
    "        for i in range(3):\n",
    "            for j in range(3):                                \n",
    "                for m in range(len(col)):\n",
    "                    c = col[m]\n",
    "                    dist[m] = abs(B[i][j]-c[0]) + abs(G[i][j]-c[1]) + abs(R[i][j]-c[2])   \n",
    "                ind = np.argmin(dist)\n",
    "                mat[i][j] = vals[ind]\n",
    "        return mat"
   ]
  },
  {
   "cell_type": "code",
   "execution_count": 10,
   "metadata": {},
   "outputs": [],
   "source": [
    "face0 = cv2.imread(cwd+\"/images/image1.jpeg\",1)\n",
    "face1 = cv2.imread(cwd+\"/images/image2.jpeg\",1)\n",
    "face2 = cv2.imread(cwd+\"/images/image3.jpeg\",1)\n",
    "face3 = cv2.imread(cwd+\"/images/image4.jpeg\",1)\n",
    "face4 = cv2.imread(cwd+\"/images/image5.jpeg\",1)\n",
    "face5 = cv2.imread(cwd+\"/images/image6.jpeg\",1)\n",
    "cube = cubepre([face0,face1,face2,face3,face4,face5])"
   ]
  },
  {
   "cell_type": "code",
   "execution_count": 11,
   "metadata": {},
   "outputs": [
    {
     "data": {
      "image/png": "[encoded data removed]",
      "text/plain": [
       "<Figure size 432x288 with 1 Axes>"
      ]
     },
     "metadata": {
      "needs_background": "light"
     },
     "output_type": "display_data"
    }
   ],
   "source": [
    "pltshow(cube.face[5])"
   ]
  },
  {
   "cell_type": "code",
   "execution_count": 89,
   "metadata": {},
   "outputs": [
    {
     "name": "stdout",
     "output_type": "stream",
     "text": [
      "12 11384.0\n"
     ]
    }
   ],
   "source": [
    "img = cube.img[0].copy()\n",
    "temp = img.copy()\n",
    "temp = cv2.cvtColor(temp,cv2.COLOR_BGR2HSV)\n",
    "temp = cv2.GaussianBlur(temp,(5,5),0)        \n",
    "h,s,v = cv2.split(temp)\n",
    "temp = cv2.Canny(v,25,50)\n",
    "temp = cv2.GaussianBlur(temp,(5,5),0)\n",
    "temp = cv2.dilate(temp,np.ones([5,5]))\n",
    "contours,hierarchy = cv2.findContours(temp,cv2.RETR_LIST,cv2.CHAIN_APPROX_SIMPLE)\n",
    "rect=[]\n",
    "areas = []\n",
    "for cnt in contours:\n",
    "    epsilon = 0.1*cv2.arcLength(cnt,True)\n",
    "    approx = cv2.approxPolyDP(cnt,epsilon,True)\n",
    "    area = cv2.contourArea(cnt)\n",
    "    if len(approx)==4 and area>5000 and area<50000:\n",
    "        rect.append(cv2.convexHull(cnt,True))\n",
    "        areas.append(area)\n",
    "#rect,weights = cv2.groupRectangles(rect, 1, 1.5)\n",
    "cnt = cv2.drawContours(img,rect,-1,YELLOW)\n",
    "imgshow(cnt)\n",
    "print(len(rect),np.max(areas))"
   ]
  },
  {
   "cell_type": "code",
   "execution_count": 81,
   "metadata": {},
   "outputs": [
    {
     "data": {
      "text/plain": [
       "array([[[222, 571]],\n",
       "\n",
       "       [[227, 571]],\n",
       "\n",
       "       [[231, 572]],\n",
       "\n",
       "       [[234, 573]],\n",
       "\n",
       "       [[239, 576]],\n",
       "\n",
       "       [[247, 584]],\n",
       "\n",
       "       [[249, 587]],\n",
       "\n",
       "       [[251, 591]],\n",
       "\n",
       "       [[252, 594]],\n",
       "\n",
       "       [[253, 600]],\n",
       "\n",
       "       [[254, 620]],\n",
       "\n",
       "       [[256, 666]],\n",
       "\n",
       "       [[256, 667]],\n",
       "\n",
       "       [[254, 671]],\n",
       "\n",
       "       [[248, 677]],\n",
       "\n",
       "       [[244, 679]],\n",
       "\n",
       "       [[234, 680]],\n",
       "\n",
       "       [[176, 683]],\n",
       "\n",
       "       [[157, 683]],\n",
       "\n",
       "       [[154, 681]],\n",
       "\n",
       "       [[151, 678]],\n",
       "\n",
       "       [[149, 675]],\n",
       "\n",
       "       [[148, 673]],\n",
       "\n",
       "       [[147, 669]],\n",
       "\n",
       "       [[143, 593]],\n",
       "\n",
       "       [[143, 586]],\n",
       "\n",
       "       [[144, 584]],\n",
       "\n",
       "       [[146, 581]],\n",
       "\n",
       "       [[149, 578]],\n",
       "\n",
       "       [[152, 576]],\n",
       "\n",
       "       [[155, 575]],\n",
       "\n",
       "       [[164, 574]],\n",
       "\n",
       "       [[197, 572]]], dtype=int32)"
      ]
     },
     "execution_count": 81,
     "metadata": {},
     "output_type": "execute_result"
    }
   ],
   "source": [
    "rect[0]"
   ]
  },
  {
   "cell_type": "code",
   "execution_count": null,
   "metadata": {},
   "outputs": [],
   "source": []
  }
 ],
 "metadata": {
  "kernelspec": {
   "display_name": "Python 3",
   "language": "python",
   "name": "python3"
  },
  "language_info": {
   "codemirror_mode": {
    "name": "ipython",
    "version": 3
   },
   "file_extension": ".py",
   "mimetype": "text/x-python",
   "name": "python",
   "nbconvert_exporter": "python",
   "pygments_lexer": "ipython3",
   "version": "3.7.7"
  },
  "varInspector": {
   "cols": {
    "lenName": 16,
    "lenType": 16,
    "lenVar": 40
   },
   "kernels_config": {
    "python": {
     "delete_cmd_postfix": "",
     "delete_cmd_prefix": "del ",
     "library": "var_list.py",
     "varRefreshCmd": "print(var_dic_list())"
    },
    "r": {
     "delete_cmd_postfix": ") ",
     "delete_cmd_prefix": "rm(",
     "library": "var_list.r",
     "varRefreshCmd": "cat(var_dic_list()) "
    }
   },
   "types_to_exclude": [
    "module",
    "function",
    "builtin_function_or_method",
    "instance",
    "_Feature"
   ],
   "window_display": false
  }
 },
 "nbformat": 4,
 "nbformat_minor": 4
}
