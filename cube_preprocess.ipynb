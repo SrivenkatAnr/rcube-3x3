{
 "cells": [
  {
   "cell_type": "code",
   "execution_count": 1,
   "metadata": {},
   "outputs": [],
   "source": [
    "try:\n",
    "    import cv2\n",
    "except:\n",
    "    import cv2\n",
    "import numpy as np\n",
    "import matplotlib.pyplot as plt\n",
    "from mpl_toolkits.mplot3d import Axes3D\n",
    "from sklearn.cluster import KMeans\n",
    "import os  "
   ]
  },
  {
   "cell_type": "code",
   "execution_count": 2,
   "metadata": {},
   "outputs": [],
   "source": [
    "#6:black 0:white 1:blue 2:red 3:orange 4:green 5:yellow\n",
    "BLACK = (0,0,0)\n",
    "WHITE = (255,255,255)\n",
    "BLUE = (255,0,0)\n",
    "RED = (0,0,255)\n",
    "GREEN = (0,255,0)\n",
    "YELLOW = (0,255,255)\n",
    "ORANGE = (0,128,255)"
   ]
  },
  {
   "cell_type": "code",
   "execution_count": 3,
   "metadata": {},
   "outputs": [],
   "source": [
    "def imgshow(image):\n",
    "    cv2.imshow(\"image\",image)\n",
    "    cv2.waitKey(0)\n",
    "    cv2.destroyAllWindows()\n",
    "    \n",
    "def pltshow(image):\n",
    "    image = cv2.cvtColor(image,cv2.COLOR_BGR2RGB)\n",
    "    plt.imshow(image)  \n",
    "    plt.show()\n",
    "\n",
    "def btor(image):\n",
    "    return cv2.cvtColor(image,cv2.COLOR_BGR2RGB)\n",
    "\n",
    "def faceshow(cube):\n",
    "    plt.figure(figsize=(10,20))\n",
    "    plt.subplot(1,2,1),plt.imshow(btor(cube.face[0])),plt.title(\"0\")\n",
    "    plt.subplot(1,2,2),plt.imshow(btor(cube.face[1])),plt.title(\"1\")\n",
    "    plt.figure(figsize=(10,20))\n",
    "    plt.subplot(1,2,1),plt.imshow(btor(cube.face[2])),plt.title(\"2\")\n",
    "    plt.subplot(1,2,2),plt.imshow(btor(cube.face[3])),plt.title(\"3\")\n",
    "    plt.figure(figsize=(10,20))\n",
    "    plt.subplot(1,2,1),plt.imshow(btor(cube.face[4])),plt.title(\"4\")\n",
    "    plt.subplot(1,2,2),plt.imshow(btor(cube.face[5])),plt.title(\"5\")\n",
    "    \n",
    "cwd = os.getcwd()"
   ]
  },
  {
   "cell_type": "code",
   "execution_count": 4,
   "metadata": {},
   "outputs": [],
   "source": [
    "class cubepre():\n",
    "    def __init__(self,imagelist):\n",
    "        self.img = [None,None,None,None,None,None]\n",
    "        self.grid = [None,None,None,None,None,None]\n",
    "        self.sq = [None,None,None,None,None,None]\n",
    "        self.face = [None,None,None,None,None,None]\n",
    "        self.stickers = [None,None,None,None,None,None]\n",
    "        self.ccount = [0,0,0,0,0,0]\n",
    "        self.carray = []\n",
    "        self.Cdict = []\n",
    "        self.pixelmap = []\n",
    "        width = 800\n",
    "        scale = imagelist[0].shape[1]/width\n",
    "        height = int(imagelist[0].shape[0]/scale)\n",
    "        img_area = height*width\n",
    "        for k in range(len(imagelist)):\n",
    "            self.img[k] = cv2.resize(imagelist[k].copy(),(width,height))\n",
    "            self.face_extract(k)\n",
    "        self.cluster()\n",
    "        for k in range(len(imagelist)):\n",
    "            colormat = self.colormap(self.pixelmap[k])\n",
    "            self.update(colormat,k)\n",
    "        if any(np.asarray(self.ccount) != 9):\n",
    "            print(\"Wrong sticker outputs!!\")\n",
    "            print(self.ccount)\n",
    "                              \n",
    "    def hp(self,img):\n",
    "        gb = cv2.GaussianBlur(img,(51,51),0)\n",
    "        return gb - img\n",
    "    \n",
    "    def face_extract(self,k):\n",
    "        temp = self.img[k].copy()\n",
    "        areas,rect_contours,img_area,cube_area = self.cntprocess(temp,[0])\n",
    "        rect = []\n",
    "        for i in range(len(rect_contours)):\n",
    "            if  areas[i]>img_area/200 and areas[i]<img_area/20:\n",
    "                boxwidths = cv2.minAreaRect(rect_contours[i])\n",
    "                rect.append(np.int0(cv2.boxPoints(boxwidths)))\n",
    "        n=5    \n",
    "        m=0\n",
    "        while(len(rect)!=9):\n",
    "            n=5\n",
    "            while(len(rect)!=9):\n",
    "                rect = []    \n",
    "                for i in range(len(rect_contours)):\n",
    "                    if  areas[i]>cube_area/(n*20) and areas[i]<cube_area/n:\n",
    "                        boxwidths = cv2.minAreaRect(rect_contours[i])\n",
    "                        rect.append(np.int0(cv2.boxPoints(boxwidths)))\n",
    "\n",
    "                if n*100>cube_area:\n",
    "                    print(\"not converging\",n)\n",
    "                    break\n",
    "                n += 5\n",
    "\n",
    "            if m == 0:\n",
    "                    m += 1\n",
    "            elif m == 1:\n",
    "                    img2 = temp.copy()\n",
    "                    img2 = cv2.cvtColor(img2,cv2.COLOR_BGR2HSV)\n",
    "                    h,s,v = cv2.split(img2)                    \n",
    "                    areas,rect_contours,img_area,cube_area = self.cntprocess(img2,v)\n",
    "                    m+=1\n",
    "            elif m == 2:\n",
    "                    img2 = temp.copy()\n",
    "                    img2 = cv2.cvtColor(img2,cv2.COLOR_BGR2HSV)\n",
    "                    h,s,v = cv2.split(img2)\n",
    "                    areas,rect_contours,img_area,cube_area = self.cntprocess(img2,s)\n",
    "                    m+=1\n",
    "            elif m == 3:\n",
    "                    img2 = temp.copy()\n",
    "                    img2 = cv2.cvtColor(img2,cv2.COLOR_BGR2HSV)\n",
    "                    h,s,v = cv2.split(img2)\n",
    "                    areas,rect_contours,img_area,cube_area = self.cntprocess(img2,h)\n",
    "                    m+=1\n",
    "            elif m == 4:\n",
    "                    img2 = temp.copy()\n",
    "                    img2 = cv2.cvtColor(img2,cv2.COLOR_BGR2HSV)\n",
    "                    img2 = cv2.cvtColor(img2,cv2.COLOR_BGR2HSV)\n",
    "                    h,s,v = cv2.split(img2)\n",
    "                    areas,rect_contours,img_area,cube_area = self.cntprocess(img2,v)\n",
    "                    m+=1\n",
    "            elif m == 5:\n",
    "                    img2 = temp.copy()\n",
    "                    img2 = cv2.cvtColor(img2,cv2.COLOR_BGR2HSV)\n",
    "                    img2 = cv2.cvtColor(img2,cv2.COLOR_BGR2HSV)\n",
    "                    h,s,v = cv2.split(img2)\n",
    "                    areas,rect_contours,img_area,cube_area = self.cntprocess(img2,s)\n",
    "                    m+=1\n",
    "            elif m == 6:\n",
    "                    img2 = temp.copy()\n",
    "                    img2 = cv2.cvtColor(img2,cv2.COLOR_BGR2HSV)\n",
    "                    img2 = cv2.cvtColor(img2,cv2.COLOR_BGR2HSV)\n",
    "                    h,s,v = cv2.split(img2)\n",
    "                    areas,rect_contours,img_area,cube_area = self.cntprocess(img2,h)\n",
    "                    m+=1\n",
    "            else:\n",
    "                break  \n",
    "        rect = self.contoursort(rect)\n",
    "        self.stickers[k] = cv2.drawContours(self.img[k].copy(),rect,-1,YELLOW,2)\n",
    "        if len(rect) != 9:\n",
    "            print(\"Something's wrong\",k,len(rect))   \n",
    "            print(\"The image area is\",img_area)\n",
    "        self.get_faceval(rect,k)\n",
    "    \n",
    "    def cntprocess(self,img,channel):\n",
    "        temp = img.copy()\n",
    "        img_area = temp.shape[0]*temp.shape[1]\n",
    "        temp = cv2.GaussianBlur(temp,(7,7),0)\n",
    "        if len(channel)!=1:\n",
    "            temp = cv2.Canny(channel,25,50)\n",
    "        else:\n",
    "            temp = cv2.Canny(img,25,50)\n",
    "        temp = cv2.GaussianBlur(temp,(17,17),0)\n",
    "        temp = cv2.dilate(temp,np.ones([5,5]))\n",
    "        contours,hierarchy = cv2.findContours(temp,cv2.RETR_CCOMP,cv2.CHAIN_APPROX_SIMPLE)\n",
    "        rect_contours=[]\n",
    "        areas = []        \n",
    "        for cnt in contours:\n",
    "            epsilon = 0.1*cv2.arcLength(cnt,True)\n",
    "            approx = cv2.approxPolyDP(cnt,epsilon,True)\n",
    "            if len(approx)==4:\n",
    "                area = cv2.contourArea(cnt)\n",
    "                rect_contours.append(cnt)\n",
    "                areas.append(area)\n",
    "        cube_area = areas[np.argmax(areas)]\n",
    "        if cube_area < img_area/50 or cube_area>img_area/1.5:\n",
    "            cube_area=img_area/3\n",
    "        return areas,rect_contours,img_area,cube_area   \n",
    "    \n",
    "    def cluster(self):\n",
    "        colours_list = np.asarray(self.carray)\n",
    "        kmeans = KMeans(n_clusters=6)\n",
    "        kmeans.fit(colours_list)\n",
    "        colours = kmeans.cluster_centers_\n",
    "        Col = [WHITE,BLUE,RED,ORANGE,GREEN,YELLOW]\n",
    "        B = np.asarray(Col)[:,0]\n",
    "        G = np.asarray(Col)[:,1]\n",
    "        R = np.asarray(Col)[:,2]\n",
    "        dist = np.zeros([len(Col),1])\n",
    "        for j in range(6):                                \n",
    "            for m in range(6):\n",
    "                ca = colours[m]\n",
    "                dist[m] = abs(B[j]-ca[0]) + abs(G[j]-ca[1]) + abs(R[j]-ca[2])   \n",
    "            ind = np.argmin(dist)\n",
    "            self.Cdict.append(colours[ind])\n",
    "        \n",
    "        \n",
    "    def get_faceval(self,rect,k):\n",
    "        temp = self.img[k].copy()\n",
    "        sq = np.asarray(rect).reshape(3,3,4,2)\n",
    "        pixel_b = np.zeros([3,3])\n",
    "        pixel_g = np.zeros([3,3])\n",
    "        pixel_r = np.zeros([3,3])           \n",
    "        for i in range(3):\n",
    "            for j in range(3):\n",
    "                    x,y,w,h = cv2.boundingRect(sq[i][j])\n",
    "                    sec = temp[y:y+h,x:x+w]\n",
    "                    sec = cv2.resize(sec,(25,25))\n",
    "                    for y in range(sec.shape[0]):\n",
    "                        for x in range(sec.shape[1]):\n",
    "                            for c in range(sec.shape[2]):\n",
    "                                sec[y,x,c] = np.clip(1*sec[y,x,c] + 2, 0, 255)\n",
    "                    sec = cv2.GaussianBlur(sec,(25,25),0)\n",
    "                    pixel_b[i,j],pixel_g[i,j],pixel_r[i,j] = sec[12,12]\n",
    "                    self.carray.append(sec[12,12])                                                     \n",
    "        self.pixelmap.append([pixel_b,pixel_g,pixel_r])\n",
    "\n",
    "    def contoursort(self,rect):\n",
    "        rect = sorted(rect,key=lambda b:b[1][1],reverse=False)\n",
    "        rect[0:3] = sorted(rect[0:3],key=lambda b:b[1][0],reverse=False)\n",
    "        rect[3:6] = sorted(rect[3:6],key=lambda b:b[1][0],reverse=False)\n",
    "        rect[6:9] = sorted(rect[6:9],key=lambda b:b[1][0],reverse=False)\n",
    "        return rect  \n",
    "        \n",
    "    def colormap(self,colors):\n",
    "        mat = np.zeros([3,3])\n",
    "        B,G,R = colors\n",
    "        col = self.Cdict\n",
    "        vals = [0,1,2,3,4,5]\n",
    "        dist = np.zeros([len(col),1])\n",
    "        for i in range(3):\n",
    "            for j in range(3):                                \n",
    "                for m in range(len(col)):\n",
    "                    c = col[m]\n",
    "                    dist[m] = abs(B[i][j]-c[0]) + abs(G[i][j]-c[1]) + abs(R[i][j]-c[2])   \n",
    "                ind = np.argmin(dist)\n",
    "                mat[i][j] = vals[ind]\n",
    "        return mat\n",
    "    \n",
    "    def update(self,mat,k):\n",
    "        self.grid[k] = mat\n",
    "        self.face[k] = np.zeros((3,3,3),np.uint8)\n",
    "        for i in range(3):\n",
    "            for j in range(3):\n",
    "                if mat[i,j] == 0:\n",
    "                    self.face[k][i,j] = WHITE\n",
    "                    self.ccount[0] += 1\n",
    "                elif mat[i,j] == 1:\n",
    "                    self.face[k][i,j] = BLUE\n",
    "                    self.ccount[1] += 1\n",
    "                elif mat[i,j] == 2:\n",
    "                    self.face[k][i,j] = RED\n",
    "                    self.ccount[2] += 1\n",
    "                elif mat[i,j] == 3:\n",
    "                    self.face[k][i,j] = ORANGE\n",
    "                    self.ccount[3] += 1\n",
    "                elif mat[i,j] == 4:\n",
    "                    self.face[k][i,j] = GREEN\n",
    "                    self.ccount[4] += 1\n",
    "                elif mat[i,j] == 5:\n",
    "                    self.face[k][i,j] = YELLOW\n",
    "                    self.ccount[5] += 1\n",
    "                else:\n",
    "                    pass              "
   ]
  },
  {
   "cell_type": "code",
   "execution_count": 5,
   "metadata": {},
   "outputs": [
    {
     "name": "stdout",
     "output_type": "stream",
     "text": [
      "not converging 80\n",
      "not converging 80\n",
      "not converging 80\n",
      "not converging 80\n",
      "not converging 100\n",
      "Wrong sticker outputs!!\n",
      "[8, 9, 9, 10, 9, 9]\n"
     ]
    }
   ],
   "source": [
    "face0 = cv2.imread(cwd+\"/images/test-1/image1.jpeg\",1)\n",
    "face1 = cv2.imread(cwd+\"/images/test-1/image2.jpeg\",1)\n",
    "face2 = cv2.imread(cwd+\"/images/test-1/image3.jpeg\",1)\n",
    "face3 = cv2.imread(cwd+\"/images/test-1/image4.jpeg\",1)\n",
    "face4 = cv2.imread(cwd+\"/images/test-1/image5.jpeg\",1)\n",
    "face5 = cv2.imread(cwd+\"/images/test-1/image6.jpeg\",1)\n",
    "cube = cubepre([face0,face1,face2,face3,face4,face5])"
   ]
  },
  {
   "cell_type": "code",
   "execution_count": 6,
   "metadata": {},
   "outputs": [
    {
     "data": {
      "image/png": "[encoded data removed]",
      "text/plain": [
       "<Figure size 720x1440 with 2 Axes>"
      ]
     },
     "metadata": {
      "needs_background": "light"
     },
     "output_type": "display_data"
    },
    {
     "data": {
      "image/png": "[encoded data removed]",
      "text/plain": [
       "<Figure size 720x1440 with 2 Axes>"
      ]
     },
     "metadata": {
      "needs_background": "light"
     },
     "output_type": "display_data"
    },
    {
     "data": {
      "image/png": "[encoded data removed]",
      "text/plain": [
       "<Figure size 720x1440 with 2 Axes>"
      ]
     },
     "metadata": {
      "needs_background": "light"
     },
     "output_type": "display_data"
    }
   ],
   "source": [
    "faceshow(cube)"
   ]
  },
  {
   "cell_type": "code",
   "execution_count": 7,
   "metadata": {},
   "outputs": [],
   "source": [
    "imgshow(cube.stickers[0])\n",
    "imgshow(cube.stickers[1])\n",
    "imgshow(cube.stickers[2])\n",
    "imgshow(cube.stickers[3])\n",
    "imgshow(cube.stickers[4])\n",
    "imgshow(cube.stickers[5])"
   ]
  },
  {
   "cell_type": "code",
   "execution_count": 8,
   "metadata": {},
   "outputs": [
    {
     "data": {
      "text/plain": [
       "54"
      ]
     },
     "execution_count": 8,
     "metadata": {},
     "output_type": "execute_result"
    }
   ],
   "source": [
    "len(cube.carray)    "
   ]
  },
  {
   "cell_type": "code",
   "execution_count": null,
   "metadata": {},
   "outputs": [],
   "source": []
  },
  {
   "cell_type": "code",
   "execution_count": null,
   "metadata": {},
   "outputs": [],
   "source": []
  },
  {
   "cell_type": "code",
   "execution_count": 9,
   "metadata": {},
   "outputs": [
    {
     "ename": "NameError",
     "evalue": "name 'fin' is not defined",
     "output_type": "error",
     "traceback": [
      "\u001b[0;31m---------------------------------------------------------------------------\u001b[0m",
      "\u001b[0;31mNameError\u001b[0m                                 Traceback (most recent call last)",
      "\u001b[0;32m<ipython-input-9-4142b842ab5d>\u001b[0m in \u001b[0;36m<module>\u001b[0;34m\u001b[0m\n\u001b[0;32m----> 1\u001b[0;31m \u001b[0mimgshow\u001b[0m\u001b[0;34m(\u001b[0m\u001b[0mfin\u001b[0m\u001b[0;34m)\u001b[0m\u001b[0;34m\u001b[0m\u001b[0;34m\u001b[0m\u001b[0m\n\u001b[0m",
      "\u001b[0;31mNameError\u001b[0m: name 'fin' is not defined"
     ]
    }
   ],
   "source": [
    "imgshow(fin)"
   ]
  },
  {
   "cell_type": "code",
   "execution_count": null,
   "metadata": {},
   "outputs": [],
   "source": []
  },
  {
   "cell_type": "code",
   "execution_count": null,
   "metadata": {},
   "outputs": [],
   "source": []
  },
  {
   "cell_type": "code",
   "execution_count": null,
   "metadata": {},
   "outputs": [],
   "source": [
    "def cluster(img):\n",
    "    img = img.reshape((img.shape[0]*img.shape[1],3))\n",
    "    kmeans = KMeans(n_clusters=6)\n",
    "    kmeans.fit(img)\n",
    "    color_list = kmeans.cluster_centers_\n",
    "    labels = kmeans.labels_\n",
    "    return color_list,labels\n",
    "                     "
   ]
  },
  {
   "cell_type": "code",
   "execution_count": null,
   "metadata": {},
   "outputs": [],
   "source": [
    "def process(img,channel):\n",
    "    temp = img.copy()\n",
    "    img_area = temp.shape[0]*temp.shape[1]\n",
    "    temp2 = cv2.GaussianBlur(temp.copy(),(17,17),0)\n",
    "    #temp = temp-temp2\n",
    "    #temp = cv2.GaussianBlur(temp,(7,7),0)\n",
    "\n",
    "    if len(channel)!=1:\n",
    "        temp = cv2.Canny(channel,25,50)\n",
    "    else:\n",
    "        temp = cv2.Canny(img,25,50)\n",
    "    temp = cv2.GaussianBlur(temp,(5,5),0)\n",
    "    temp = cv2.dilate(temp,np.ones([5,5]))\n",
    "    contours,hierarchy = cv2.findContours(temp,cv2.RETR_CCOMP,cv2.CHAIN_APPROX_SIMPLE)\n",
    "    rect_contours=[]\n",
    "    areas = []        \n",
    "    for cnt in contours:\n",
    "        epsilon = 0.1*cv2.arcLength(cnt,True)\n",
    "        approx = cv2.approxPolyDP(cnt,epsilon,True)\n",
    "        if len(approx)==4:\n",
    "            area = cv2.contourArea(cnt)\n",
    "            rect_contours.append(cnt)\n",
    "            areas.append(area)\n",
    "    cube_area = areas[np.argmax(areas)]\n",
    "    if cube_area < img_area/50 or cube_area>img_area/1.5:\n",
    "        cube_area=img_area/3\n",
    "    return areas,rect_contours,img_area,cube_area,contours"
   ]
  },
  {
   "cell_type": "code",
   "execution_count": null,
   "metadata": {},
   "outputs": [],
   "source": []
  },
  {
   "cell_type": "code",
   "execution_count": null,
   "metadata": {},
   "outputs": [],
   "source": [
    "img1 = face5.copy()\n",
    "img = img1.copy()\n",
    "areas,rect_contours,img_area,cube_area,contours = process(img,[0])\n",
    "rect = []\n",
    "for i in range(len(rect_contours)):\n",
    "    if  areas[i]>cube_area/75 and areas[i]<cube_area/15:\n",
    "        boxwidths = cv2.minAreaRect(rect_contours[i])\n",
    "        rect.append(np.int0(cv2.boxPoints(boxwidths)))\n",
    "n=5    \n",
    "m=0\n",
    "while(len(rect)!=9):\n",
    "    n=5\n",
    "    while(len(rect)!=9):\n",
    "        rect = []    \n",
    "        for i in range(len(rect_contours)):\n",
    "            if  areas[i]>cube_area/(n*15) and areas[i]<cube_area/n:\n",
    "                boxwidths = cv2.minAreaRect(rect_contours[i])\n",
    "                rect.append(np.int0(cv2.boxPoints(boxwidths)))\n",
    "\n",
    "        if n*100>cube_area:\n",
    "            print(\"not converging\",n)\n",
    "            break\n",
    "        n += 5\n",
    "        if n==20:\n",
    "            print(\"20 came\")\n",
    "    if m == 0:\n",
    "            m += 1\n",
    "    elif m == 1:\n",
    "            img2 = img1.copy()\n",
    "            img2 = cv2.cvtColor(img2,cv2.COLOR_BGR2HSV)\n",
    "            h,s,v = cv2.split(img2)\n",
    "            areas,rect_contours,img_area,cube_area,contours = process(img2,v)\n",
    "            m+=1\n",
    "    elif m == 2:\n",
    "            img2 = img1.copy()\n",
    "            img2 = cv2.cvtColor(img2,cv2.COLOR_BGR2HSV)\n",
    "            h,s,v = cv2.split(img2)\n",
    "            areas,rect_contours,img_area,cube_area,contours = process(img2,s)\n",
    "            m+=1\n",
    "    elif m == 3:\n",
    "            img2 = img1.copy()\n",
    "            img2 = cv2.cvtColor(img2,cv2.COLOR_BGR2HSV)\n",
    "            h,s,v = cv2.split(img2)\n",
    "            areas,rect_contours,img_area,cube_area,contours = process(img2,h)\n",
    "            m+=1\n",
    "    elif m == 4:\n",
    "            img2 = img1.copy()\n",
    "            img2 = cv2.cvtColor(img2,cv2.COLOR_BGR2HSV)\n",
    "            h,s,v = cv2.split(img2)\n",
    "            areas,rect_contours,img_area,cube_area,contours = process(img2,v)\n",
    "            m+=1\n",
    "    elif m == 5:\n",
    "            img2 = img1.copy()\n",
    "            img2 = cv2.cvtColor(img2,cv2.COLOR_BGR2HSV)\n",
    "            h,s,v = cv2.split(img2)\n",
    "            areas,rect_contours,img_area,cube_area,contours = process(img2,s)\n",
    "            m+=1\n",
    "    elif m == 6:\n",
    "            img2 = img1.copy()\n",
    "            img2 = cv2.cvtColor(img2,cv2.COLOR_BGR2HSV)\n",
    "            h,s,v = cv2.split(img2)\n",
    "            areas,rect_contours,img_area,cube_area,contours = process(img2,h)\n",
    "            m+=1\n",
    "    else:\n",
    "        break  \n",
    "\n",
    "#rect = contoursort(rect)\n",
    "stickers = cv2.drawContours(img1.copy(),rect,-1,YELLOW,5)\n",
    "imgshow(stickers)\n",
    "print(len(rect_contours),len(areas),len(rect))\n",
    "print(cube_area,img_area)"
   ]
  },
  {
   "cell_type": "code",
   "execution_count": null,
   "metadata": {},
   "outputs": [],
   "source": [
    "rect = sorted(rect,key=lambda b:b[1][1],reverse=False)\n",
    "rect[0:3] = sorted(rect[0:3],key=lambda b:b[1][0],reverse=False)\n",
    "rect[3:6] = sorted(rect[3:6],key=lambda b:b[1][0],reverse=False)\n",
    "rect[6:9] = sorted(rect[6:9],key=lambda b:b[1][0],reverse=False)\n",
    "sq = np.asarray(rect).reshape(3,3,4,2)\n",
    "tempimg = face0.copy()\n",
    "for i in range(3):\n",
    "    for j in range(3):\n",
    "            x,y,w,h = cv2.boundingRect(sq[i][j])\n",
    "            sec = tempimg[y:y+h,x:x+w]\n",
    "            sec = cv2.resize(sec,(25,25))\n",
    "            for y in range(sec.shape[0]):\n",
    "                for x in range(sec.shape[1]):\n",
    "                    for c in range(sec.shape[2]):\n",
    "                        sec[y,x,c] = np.clip(1*sec[y,x,c] + 10, 0, 255)\n",
    "            sec = cv2.GaussianBlur(sec,(21,21),0)\n",
    "            imgshow(sec)"
   ]
  },
  {
   "cell_type": "code",
   "execution_count": null,
   "metadata": {},
   "outputs": [],
   "source": [
    "print(len(cube.carray))\n",
    "colours = cube.carray.copy()\n",
    "colours=np.asarray(colours).reshape((9,6,3))"
   ]
  },
  {
   "cell_type": "code",
   "execution_count": null,
   "metadata": {},
   "outputs": [],
   "source": []
  },
  {
   "cell_type": "code",
   "execution_count": null,
   "metadata": {},
   "outputs": [],
   "source": []
  },
  {
   "cell_type": "code",
   "execution_count": null,
   "metadata": {},
   "outputs": [],
   "source": []
  },
  {
   "cell_type": "code",
   "execution_count": null,
   "metadata": {},
   "outputs": [],
   "source": []
  }
 ],
 "metadata": {
  "kernelspec": {
   "display_name": "Python 3",
   "language": "python",
   "name": "python3"
  },
  "language_info": {
   "codemirror_mode": {
    "name": "ipython",
    "version": 3
   },
   "file_extension": ".py",
   "mimetype": "text/x-python",
   "name": "python",
   "nbconvert_exporter": "python",
   "pygments_lexer": "ipython3",
   "version": "3.7.7"
  },
  "varInspector": {
   "cols": {
    "lenName": 16,
    "lenType": 16,
    "lenVar": 40
   },
   "kernels_config": {
    "python": {
     "delete_cmd_postfix": "",
     "delete_cmd_prefix": "del ",
     "library": "var_list.py",
     "varRefreshCmd": "print(var_dic_list())"
    },
    "r": {
     "delete_cmd_postfix": ") ",
     "delete_cmd_prefix": "rm(",
     "library": "var_list.r",
     "varRefreshCmd": "cat(var_dic_list()) "
    }
   },
   "types_to_exclude": [
    "module",
    "function",
    "builtin_function_or_method",
    "instance",
    "_Feature"
   ],
   "window_display": false
  }
 },
 "nbformat": 4,
 "nbformat_minor": 4
}
