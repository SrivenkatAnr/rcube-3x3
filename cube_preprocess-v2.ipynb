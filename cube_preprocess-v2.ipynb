{
 "cells": [
  {
   "cell_type": "code",
   "execution_count": 32,
   "metadata": {},
   "outputs": [],
   "source": [
    "import cv2\n",
    "import numpy as np\n",
    "import matplotlib.pyplot as plt\n",
    "import os"
   ]
  },
  {
   "cell_type": "code",
   "execution_count": 3,
   "metadata": {},
   "outputs": [],
   "source": [
    "#0:black 1:white 2:blue 3:red 4:orange 5:green 6:yellow\n",
    "BLACK = (0,0,0)\n",
    "WHITE = (255,255,255)\n",
    "BLUE = (255,0,0)\n",
    "RED = (0,0,255)\n",
    "GREEN = (0,255,0)\n",
    "YELLOW = (0,255,255)\n",
    "ORANGE = (0,128,255)"
   ]
  },
  {
   "cell_type": "code",
   "execution_count": 4,
   "metadata": {},
   "outputs": [],
   "source": [
    "def imgshow(image):\n",
    "    cv2.imshow(\"image\",image)\n",
    "    cv2.waitKey(0)\n",
    "    cv2.destroyAllWindows()\n",
    "    \n",
    "def pltshow(image):\n",
    "    image = cv2.cvtColor(image,cv2.COLOR_BGR2RGB)\n",
    "    plt.imshow(image)        "
   ]
  },
  {
   "cell_type": "code",
   "execution_count": 5,
   "metadata": {},
   "outputs": [],
   "source": [
    "def cropsquare(pts,image):\n",
    "    temp = np.zeros((len(pts),2))\n",
    "    for i in range(len(pts)):\n",
    "        temp[i] = pts[i][0] \n",
    "    pts = temp\n",
    "        \n",
    "    rect = np.zeros((4, 2), dtype = \"float32\")\n",
    "\n",
    "    s = pts.sum(axis = 1)\n",
    "    rect[0] = pts[np.argmin(s)]\n",
    "    rect[2] = pts[np.argmax(s)]\n",
    "    diff = np.diff(pts, axis = 1)\n",
    "    rect[1] = pts[np.argmin(diff)]\n",
    "    rect[3] = pts[np.argmax(diff)]\n",
    "        \n",
    "    tl,tr,br,bl = rect\n",
    "\n",
    "    width1 = np.sqrt(((br[0]-bl[0])**2) + ((br[1]-bl[1])**2))\n",
    "    width2 = np.sqrt(((tr[0]-tl[0])**2) + ((tr[1]-tl[1])**2))\n",
    "    height1 = np.sqrt(((br[0]-tr[0])**2) + ((br[1]-tr[1])**2))\n",
    "    height2 = np.sqrt(((bl[0]-tl[0])**2) + ((bl[1]-tl[1])**2))\n",
    "\n",
    "    max_w = max(int(width1),int(width2))\n",
    "    max_h = max(int(height1),int(height2))\n",
    "\n",
    "    dst = np.array([[0, 0],[max_w - 1, 0],[max_w - 1, max_h - 1],[0, max_h - 1]], dtype = \"float32\")        \n",
    "    M = cv2.getPerspectiveTransform(rect, dst)\n",
    "        \n",
    "    cropped = cv2.warpPerspective(image, M, (max_w, max_h))\n",
    "    return cv2.fastNlMeansDenoising(cropped,None,10,7,21)"
   ]
  },
  {
   "cell_type": "code",
   "execution_count": 6,
   "metadata": {},
   "outputs": [],
   "source": [
    "class cubepre():\n",
    "    def __init__(self,imagelist):\n",
    "        self.grid = [None,None,None,None,None,None]\n",
    "        self.sq = [None,None,None,None,None,None]\n",
    "        self.face = [None,None,None,None,None,None]\n",
    "        self.edge = [None,None,None,None,None,None]\n",
    "        self.img = imagelist\n",
    "        height = 400\n",
    "        scale = imagelist[0].shape[0]*(1/height)\n",
    "        width = int(imagelist[0].shape[1]/scale)\n",
    "        for k in range(len(imagelist)):\n",
    "            self.img[k] = self.img[k].copy()\n",
    "            self.sq_extract(self.img[k],k)\n",
    "        self.get_faceval()\n",
    "                       \n",
    "    def sq_extract(self,image,i):\n",
    "        temp = image.copy()\n",
    "        temp = cv2.cvtColor(temp,cv2.COLOR_BGR2HSV)\n",
    "        temp = cv2.GaussianBlur(temp,(11,11),0)        \n",
    "        temp = cv2.Canny(temp,25,50)\n",
    "        temp = cv2.GaussianBlur(temp,(5,5),0)\n",
    "        temp = cv2.dilate(temp,np.ones([5,5]))\n",
    "        contours,hierarchy = cv2.findContours(temp,cv2.RETR_EXTERNAL,cv2.CHAIN_APPROX_SIMPLE)\n",
    "        areas = [cv2.contourArea(c) for c in contours]\n",
    "        maxind = np.argmax(areas)\n",
    "        cntmax = contours[maxind]\n",
    "        sq_hull = cv2.convexHull(cntmax,True)\n",
    "        epsilon = 0.1*cv2.arcLength(sq_hull,True)\n",
    "        approx = cv2.approxPolyDP(sq_hull,epsilon,True)\n",
    "        self.edge = cv2.drawContours(image.copy(),[approx],0,YELLOW)\n",
    "        self.sq[i] = cropsquare(approx,self.img[i])\n",
    "\n",
    "    def get_faceval(self):\n",
    "        sqlist = self.sq.copy()\n",
    "        pixel_b = np.zeros([3,3])\n",
    "        pixel_g = np.zeros([3,3])\n",
    "        pixel_r = np.zeros([3,3])\n",
    "        size = 150\n",
    "        start = int(size/6)\n",
    "        step = int(size/3)\n",
    "        for k in range(len(sqlist)):\n",
    "            temp = cv2.resize(sqlist[k],(150,150))\n",
    "            temp_blur = cv2.blur(temp,(3,3))\n",
    "        \n",
    "            for i in range(3):\n",
    "                for j in range(3):\n",
    "                    pixel_b[i,j],pixel_g[i,j],pixel_r[i,j] = temp_blur[start+(i*step),start+(j*step)]\n",
    "                        \n",
    "            matrix = self.colormap([pixel_b,pixel_g,pixel_r])\n",
    "            self.update(matrix,k)\n",
    "        \n",
    "    def update(self,mat,k):\n",
    "        self.grid[k] = mat\n",
    "        self.face[k] = np.zeros((3,3,3),np.uint8)\n",
    "        for i in range(3):\n",
    "            for j in range(3):\n",
    "                if mat[i,j] == 1:\n",
    "                    self.face[k][i,j] = WHITE\n",
    "                elif mat[i,j] == 2:\n",
    "                    self.face[k][i,j] = BLUE\n",
    "                elif mat[i,j] == 3:\n",
    "                    self.face[k][i,j] = RED\n",
    "                elif mat[i,j] == 4:\n",
    "                    self.face[k][i,j] = ORANGE\n",
    "                elif mat[i,j] == 5:\n",
    "                    self.face[k][i,j] = GREEN\n",
    "                elif mat[i,j] == 6:\n",
    "                    self.face[k][i,j] = YELLOW\n",
    "                else:\n",
    "                    pass      \n",
    "            \n",
    "    def colormap(self,colors):\n",
    "        mat = np.zeros([3,3])\n",
    "        B,G,R = colors\n",
    "        col = [BLACK,WHITE,BLUE,RED,ORANGE,GREEN,YELLOW]\n",
    "        vals = [0,1,2,3,4,5,6]\n",
    "        dist = np.zeros([len(col),1])\n",
    "        for i in range(3):\n",
    "            for j in range(3):                                \n",
    "                for m in range(len(col)):\n",
    "                    c = col[m]\n",
    "                    dist[m] = abs(B[i][j]-c[0]) + abs(G[i][j]-c[1]) + abs(R[i][j]-c[2])   \n",
    "                ind = np.argmin(dist)\n",
    "                mat[i][j] = vals[ind]\n",
    "        return mat"
   ]
  },
  {
   "cell_type": "code",
   "execution_count": 8,
   "metadata": {},
   "outputs": [
    {
     "ename": "AttributeError",
     "evalue": "'NoneType' object has no attribute 'shape'",
     "output_type": "error",
     "traceback": [
      "\u001b[0;31m---------------------------------------------------------------------------\u001b[0m",
      "\u001b[0;31mAttributeError\u001b[0m                            Traceback (most recent call last)",
      "\u001b[0;32m<ipython-input-8-7eaed8efc04a>\u001b[0m in \u001b[0;36m<module>\u001b[0;34m\u001b[0m\n\u001b[1;32m      5\u001b[0m \u001b[0mface4\u001b[0m \u001b[0;34m=\u001b[0m \u001b[0mcv2\u001b[0m\u001b[0;34m.\u001b[0m\u001b[0mimread\u001b[0m\u001b[0;34m(\u001b[0m\u001b[0;34m\"/images/image5.jpeg\"\u001b[0m\u001b[0;34m,\u001b[0m\u001b[0;36m1\u001b[0m\u001b[0;34m)\u001b[0m\u001b[0;34m\u001b[0m\u001b[0;34m\u001b[0m\u001b[0m\n\u001b[1;32m      6\u001b[0m \u001b[0mface5\u001b[0m \u001b[0;34m=\u001b[0m \u001b[0mcv2\u001b[0m\u001b[0;34m.\u001b[0m\u001b[0mimread\u001b[0m\u001b[0;34m(\u001b[0m\u001b[0;34m\"/images/image6.jpeg\"\u001b[0m\u001b[0;34m,\u001b[0m\u001b[0;36m1\u001b[0m\u001b[0;34m)\u001b[0m\u001b[0;34m\u001b[0m\u001b[0;34m\u001b[0m\u001b[0m\n\u001b[0;32m----> 7\u001b[0;31m \u001b[0mcube\u001b[0m \u001b[0;34m=\u001b[0m \u001b[0mcubepre\u001b[0m\u001b[0;34m(\u001b[0m\u001b[0;34m[\u001b[0m\u001b[0mface0\u001b[0m\u001b[0;34m,\u001b[0m\u001b[0mface1\u001b[0m\u001b[0;34m,\u001b[0m\u001b[0mface2\u001b[0m\u001b[0;34m,\u001b[0m\u001b[0mface3\u001b[0m\u001b[0;34m,\u001b[0m\u001b[0mface4\u001b[0m\u001b[0;34m,\u001b[0m\u001b[0mface5\u001b[0m\u001b[0;34m]\u001b[0m\u001b[0;34m)\u001b[0m\u001b[0;34m\u001b[0m\u001b[0;34m\u001b[0m\u001b[0m\n\u001b[0m",
      "\u001b[0;32m<ipython-input-6-b9702d57adbb>\u001b[0m in \u001b[0;36m__init__\u001b[0;34m(self, imagelist)\u001b[0m\n\u001b[1;32m      7\u001b[0m         \u001b[0mself\u001b[0m\u001b[0;34m.\u001b[0m\u001b[0mimg\u001b[0m \u001b[0;34m=\u001b[0m \u001b[0mimagelist\u001b[0m\u001b[0;34m\u001b[0m\u001b[0;34m\u001b[0m\u001b[0m\n\u001b[1;32m      8\u001b[0m         \u001b[0mheight\u001b[0m \u001b[0;34m=\u001b[0m \u001b[0;36m400\u001b[0m\u001b[0;34m\u001b[0m\u001b[0;34m\u001b[0m\u001b[0m\n\u001b[0;32m----> 9\u001b[0;31m         \u001b[0mscale\u001b[0m \u001b[0;34m=\u001b[0m \u001b[0mimagelist\u001b[0m\u001b[0;34m[\u001b[0m\u001b[0;36m0\u001b[0m\u001b[0;34m]\u001b[0m\u001b[0;34m.\u001b[0m\u001b[0mshape\u001b[0m\u001b[0;34m[\u001b[0m\u001b[0;36m0\u001b[0m\u001b[0;34m]\u001b[0m\u001b[0;34m*\u001b[0m\u001b[0;34m(\u001b[0m\u001b[0;36m1\u001b[0m\u001b[0;34m/\u001b[0m\u001b[0mheight\u001b[0m\u001b[0;34m)\u001b[0m\u001b[0;34m\u001b[0m\u001b[0;34m\u001b[0m\u001b[0m\n\u001b[0m\u001b[1;32m     10\u001b[0m         \u001b[0mwidth\u001b[0m \u001b[0;34m=\u001b[0m \u001b[0mint\u001b[0m\u001b[0;34m(\u001b[0m\u001b[0mimagelist\u001b[0m\u001b[0;34m[\u001b[0m\u001b[0;36m0\u001b[0m\u001b[0;34m]\u001b[0m\u001b[0;34m.\u001b[0m\u001b[0mshape\u001b[0m\u001b[0;34m[\u001b[0m\u001b[0;36m1\u001b[0m\u001b[0;34m]\u001b[0m\u001b[0;34m/\u001b[0m\u001b[0mscale\u001b[0m\u001b[0;34m)\u001b[0m\u001b[0;34m\u001b[0m\u001b[0;34m\u001b[0m\u001b[0m\n\u001b[1;32m     11\u001b[0m         \u001b[0;32mfor\u001b[0m \u001b[0mk\u001b[0m \u001b[0;32min\u001b[0m \u001b[0mrange\u001b[0m\u001b[0;34m(\u001b[0m\u001b[0mlen\u001b[0m\u001b[0;34m(\u001b[0m\u001b[0mimagelist\u001b[0m\u001b[0;34m)\u001b[0m\u001b[0;34m)\u001b[0m\u001b[0;34m:\u001b[0m\u001b[0;34m\u001b[0m\u001b[0;34m\u001b[0m\u001b[0m\n",
      "\u001b[0;31mAttributeError\u001b[0m: 'NoneType' object has no attribute 'shape'"
     ]
    }
   ],
   "source": [
    "face0 = cv2.imread(\"/images/image1.jpeg\",1)\n",
    "face1 = cv2.imread(\"/images/image2.jpeg\",1)\n",
    "face2 = cv2.imread(\"/images/image3.jpeg\",1)\n",
    "face3 = cv2.imread(\"/images/image4.jpeg\",1)\n",
    "face4 = cv2.imread(\"/images/image5.jpeg\",1)\n",
    "face5 = cv2.imread(\"/images/image6.jpeg\",1)\n",
    "cube = cubepre([face0,face1,face2,face3,face4,face5])"
   ]
  },
  {
   "cell_type": "code",
   "execution_count": null,
   "metadata": {},
   "outputs": [],
   "source": [
    "pltshow(cube.face[5])"
   ]
  },
  {
   "cell_type": "markdown",
   "metadata": {},
   "source": [
    "Common class for all faces of the cube.\n",
    "uses canny for egde detection. "
   ]
  },
  {
   "cell_type": "code",
   "execution_count": 56,
   "metadata": {},
   "outputs": [],
   "source": [
    "face0 = cv2.imread(os.path.join(os.getcwd(),\"/images/image1.jpeg\"),1)"
   ]
  },
  {
   "cell_type": "code",
   "execution_count": 59,
   "metadata": {},
   "outputs": [
    {
     "name": "stdout",
     "output_type": "stream",
     "text": [
      "/media/srivenkat/New Volume F/Coding/Projects/Rubiks_cube_solver\n"
     ]
    }
   ],
   "source": [
    "print(cwd)\n",
    "face0"
   ]
  },
  {
   "cell_type": "code",
   "execution_count": null,
   "metadata": {},
   "outputs": [],
   "source": []
  }
 ],
 "metadata": {
  "kernelspec": {
   "display_name": "Python 3",
   "language": "python",
   "name": "python3"
  },
  "language_info": {
   "codemirror_mode": {
    "name": "ipython",
    "version": 3
   },
   "file_extension": ".py",
   "mimetype": "text/x-python",
   "name": "python",
   "nbconvert_exporter": "python",
   "pygments_lexer": "ipython3",
   "version": "3.7.7"
  },
  "varInspector": {
   "cols": {
    "lenName": 16,
    "lenType": 16,
    "lenVar": 40
   },
   "kernels_config": {
    "python": {
     "delete_cmd_postfix": "",
     "delete_cmd_prefix": "del ",
     "library": "var_list.py",
     "varRefreshCmd": "print(var_dic_list())"
    },
    "r": {
     "delete_cmd_postfix": ") ",
     "delete_cmd_prefix": "rm(",
     "library": "var_list.r",
     "varRefreshCmd": "cat(var_dic_list()) "
    }
   },
   "types_to_exclude": [
    "module",
    "function",
    "builtin_function_or_method",
    "instance",
    "_Feature"
   ],
   "window_display": false
  }
 },
 "nbformat": 4,
 "nbformat_minor": 4
}
